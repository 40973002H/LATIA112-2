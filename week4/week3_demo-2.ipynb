{
  "nbformat": 4,
  "nbformat_minor": 0,
  "metadata": {
    "colab": {
      "provenance": []
    },
    "kernelspec": {
      "name": "python3",
      "display_name": "Python 3"
    },
    "language_info": {
      "name": "python"
    }
  },
  "cells": [
    {
      "cell_type": "markdown",
      "source": [
        "from google colab import files #匯入套件\n",
        "\n",
        "import pandas as pd\n",
        "\n",
        "upload = files.upload() #開啟上傳介面並載入\n",
        "\n",
        "data = pd.read_csv(\"剛剛上傳的檔案名稱\")"
      ],
      "metadata": {
        "id": "iaUICnvVBX5N"
      }
    },
    {
      "cell_type": "code",
      "execution_count": 5,
      "metadata": {
        "id": "nrJeVAasiBPQ",
        "colab": {
          "base_uri": "https://localhost:8080/"
        },
        "outputId": "8fd514d2-f890-4e88-f9cd-e04ea954e644"
      },
      "outputs": [
        {
          "output_type": "stream",
          "name": "stdout",
          "text": [
            "Mounted at /content/gdrive/\n",
            "total 237\n",
            "-rw------- 1 root root  92484 Feb 27 06:22 112_student.csv\n",
            "-rw------- 1 root root 112488 Mar 12 02:04 112_student_tf.csv\n",
            "-rw------- 1 root root  37258 Mar 12 05:25 week3_demo.ipynb\n"
          ]
        }
      ],
      "source": [
        "from google.colab import drive\n",
        "drive.mount('/content/gdrive/', force_remount=True)\n",
        "\n",
        "import os\n",
        "os.chdir(\"/content/gdrive/MyDrive/LATIA112-2/week3_0305/\") # 切換目錄\n",
        "#!ls -l \"/content/gdrive/MyDrive/112_2_LATIA/week3_030524/\" # 列出目錄下的檔案\n",
        "!ls -l \"/content/gdrive/MyDrive/LATIA112-2/week3_0305/\""
      ]
    },
    {
      "cell_type": "code",
      "source": [
        "from google.colab import drive\n",
        "drive.mount('/content/drive')"
      ],
      "metadata": {
        "colab": {
          "base_uri": "https://localhost:8080/"
        },
        "id": "VqT2xZSNCkOz",
        "outputId": "9fa7a1e5-5ef5-449d-c4ea-e66fec2d603b"
      },
      "execution_count": 1,
      "outputs": [
        {
          "output_type": "stream",
          "name": "stdout",
          "text": [
            "Mounted at /content/drive\n"
          ]
        }
      ]
    },
    {
      "cell_type": "markdown",
      "source": [
        "下載matplotlib\n"
      ],
      "metadata": {
        "id": "6qEKODHhHLwL"
      }
    },
    {
      "cell_type": "code",
      "source": [
        "# Colab 進行matplotlib繪圖時顯示繁體中文\n",
        "# 下載台北思源黑體並命名taipei_sans_tc_beta.ttf，移至指定路徑\n",
        "!wget -O TaipeiSansTCBeta-Regular.ttf https://drive.google.com/uc?id=1eGAsTN1HBpJAkeVM57_C7ccp7hbgSz3_&export=download\n",
        "\n",
        "import matplotlib as mpl\n",
        "import matplotlib.pyplot as plt\n",
        "from matplotlib.font_manager import fontManager\n",
        "\n",
        "# 改style要在改font之前\n",
        "# plt.style.use('seaborn')\n",
        "\n",
        "fontManager.addfont('TaipeiSansTCBeta-Regular.ttf')\n",
        "mpl.rc('font', family='Taipei Sans TC Beta')"
      ],
      "metadata": {
        "colab": {
          "base_uri": "https://localhost:8080/"
        },
        "id": "0FhNIFn6HHcG",
        "outputId": "60aea63f-69f4-41ec-d99b-bff43f04804b"
      },
      "execution_count": 17,
      "outputs": [
        {
          "output_type": "stream",
          "name": "stdout",
          "text": [
            "--2024-03-12 05:29:31--  https://drive.google.com/uc?id=1eGAsTN1HBpJAkeVM57_C7ccp7hbgSz3_\n",
            "Resolving drive.google.com (drive.google.com)... 173.194.174.102, 173.194.174.138, 173.194.174.139, ...\n",
            "Connecting to drive.google.com (drive.google.com)|173.194.174.102|:443... connected.\n",
            "HTTP request sent, awaiting response... 303 See Other\n",
            "Location: https://drive.usercontent.google.com/download?id=1eGAsTN1HBpJAkeVM57_C7ccp7hbgSz3_ [following]\n",
            "--2024-03-12 05:29:31--  https://drive.usercontent.google.com/download?id=1eGAsTN1HBpJAkeVM57_C7ccp7hbgSz3_\n",
            "Resolving drive.usercontent.google.com (drive.usercontent.google.com)... 142.251.8.132, 2404:6800:4008:c15::84\n",
            "Connecting to drive.usercontent.google.com (drive.usercontent.google.com)|142.251.8.132|:443... connected.\n",
            "HTTP request sent, awaiting response... 200 OK\n",
            "Length: 20659344 (20M) [application/octet-stream]\n",
            "Saving to: ‘TaipeiSansTCBeta-Regular.ttf’\n",
            "\n",
            "TaipeiSansTCBeta-Re 100%[===================>]  19.70M  41.8MB/s    in 0.5s    \n",
            "\n",
            "2024-03-12 05:29:33 (41.8 MB/s) - ‘TaipeiSansTCBeta-Regular.ttf’ saved [20659344/20659344]\n",
            "\n"
          ]
        }
      ]
    },
    {
      "cell_type": "code",
      "source": [
        "import pandas as pd\n",
        "\n",
        "#csv_file = './112_student.csv'\n",
        "csv_file =\"/content/gdrive/MyDrive/LATIA112-2/week3_0305/112_student.csv\"\n",
        "\n",
        "columns = [\n",
        "    \"學年度\",\"學校代碼\",\"學校名稱\",\"日間∕進修別\",\"等級別\",\"總計\",\"男生計\",\n",
        "    \"女生計\",\"一年級男\",\"一年級女\",\"二年級男\",\"二年級女\",\"三年級男\",\"三年級女\",\n",
        "    \"四年級男\",\"四年級女\",\"五年級男\",\"五年級女\",\"六年級男\",\"六年級女\",\n",
        "    \"七年級男\",\"七年級女\",\"延修生男\",\"延修生女\",\"縣市名稱\",\"體系別\"\n",
        "]\n",
        "df = pd.read_csv(csv_file) # 讀取csv檔案\n",
        "print(df.head())\n",
        "\n",
        "#查看資料欄位資訊\n",
        "print(df.info())\n",
        "\n",
        "#查看資料的統計學資訊描述\n",
        "#print(df.describe(include='all'))"
      ],
      "metadata": {
        "id": "hth5CL3clOs2",
        "colab": {
          "base_uri": "https://localhost:8080/"
        },
        "outputId": "2906041a-a4a6-4188-a71c-3c55f6e1f5cb"
      },
      "execution_count": 6,
      "outputs": [
        {
          "output_type": "stream",
          "name": "stdout",
          "text": [
            "   學年度  學校代碼    學校名稱 日間∕進修別   等級別    總計   男生計   女生計  一年級男  一年級女  ...  五年級男  \\\n",
            "0  112     1  國立政治大學    D 日  D 博士   921   517   404    86    69  ...    63   \n",
            "1  112     1  國立政治大學    D 日  M 碩士  4231  1835  2396   598   809  ...     2   \n",
            "2  112     1  國立政治大學    N 職  M 碩士  1903   938   965   262   304  ...    77   \n",
            "3  112     1  國立政治大學    D 日  B 學士  9763  3928  5835   906  1349  ...     0   \n",
            "4  112     2  國立清華大學    D 日  D 博士  1636  1131   505   206    93  ...   140   \n",
            "\n",
            "   五年級女  六年級男  六年級女  七年級男  七年級女  延修生男  延修生女    縣市名稱   體系別  \n",
            "0    52    68    37    66    50     0     0  30 臺北市  1 一般  \n",
            "1     1     1     0     0     0     0     0  30 臺北市  1 一般  \n",
            "2    57     0     0     0     0     0     0  30 臺北市  1 一般  \n",
            "3     0     0     0     0     0   316   499  30 臺北市  1 一般  \n",
            "4    60   110    50   115    56     0     0  18 新竹市  1 一般  \n",
            "\n",
            "[5 rows x 26 columns]\n",
            "<class 'pandas.core.frame.DataFrame'>\n",
            "RangeIndex: 764 entries, 0 to 763\n",
            "Data columns (total 26 columns):\n",
            " #   Column  Non-Null Count  Dtype \n",
            "---  ------  --------------  ----- \n",
            " 0   學年度     764 non-null    int64 \n",
            " 1   學校代碼    764 non-null    int64 \n",
            " 2   學校名稱    764 non-null    object\n",
            " 3   日間∕進修別  764 non-null    object\n",
            " 4   等級別     764 non-null    object\n",
            " 5   總計      764 non-null    int64 \n",
            " 6   男生計     764 non-null    int64 \n",
            " 7   女生計     764 non-null    int64 \n",
            " 8   一年級男    764 non-null    int64 \n",
            " 9   一年級女    764 non-null    int64 \n",
            " 10  二年級男    764 non-null    int64 \n",
            " 11  二年級女    764 non-null    int64 \n",
            " 12  三年級男    764 non-null    int64 \n",
            " 13  三年級女    764 non-null    int64 \n",
            " 14  四年級男    764 non-null    int64 \n",
            " 15  四年級女    764 non-null    int64 \n",
            " 16  五年級男    764 non-null    int64 \n",
            " 17  五年級女    764 non-null    int64 \n",
            " 18  六年級男    764 non-null    int64 \n",
            " 19  六年級女    764 non-null    int64 \n",
            " 20  七年級男    764 non-null    int64 \n",
            " 21  七年級女    764 non-null    int64 \n",
            " 22  延修生男    764 non-null    int64 \n",
            " 23  延修生女    764 non-null    int64 \n",
            " 24  縣市名稱    764 non-null    object\n",
            " 25  體系別     764 non-null    object\n",
            "dtypes: int64(21), object(5)\n",
            "memory usage: 155.3+ KB\n",
            "None\n"
          ]
        }
      ]
    },
    {
      "cell_type": "markdown",
      "source": [
        "# 1.哪間大專院校有最多的學士生\n",
        "\n",
        "step1: 取出想要查看的欄位，並印出此資料集共有多少筆紀錄 (len)\n",
        "\n",
        "step2: 篩選等級別為\"B 學士\"的DataFrame，並印出有招生學士學制的學校數量\n",
        "\n",
        "step3: 依據\"總計\"從大到小排序並印出結果 (sort_values, by, ascending)"
      ],
      "metadata": {
        "id": "bX5p1tgOSu1i"
      }
    },
    {
      "cell_type": "code",
      "source": [
        "# 請在\"填空\"處，輸入所需要的指令或參數\n",
        "\n",
        "df1 = df[['學校名稱','等級別','總計']] # 取出想要觀看的欄位\n",
        "print(\"本資料集共有\", len(df1), \"筆紀錄\")\n",
        "\n",
        "df1_1 = df1[df1['等級別'] == 'B 學士']\n",
        "print(df1_1)\n",
        "print(\"有招生學士學制的學校數量為\", len(df1_1), \"\\n\")\n",
        "df1_1_sorted = df1_1.sort_values(by='總計',ascending=False)\n",
        "print(\"112學年度在籍的學士生最多人數之學校為\", df1_1_sorted.head(1)['學校名稱'].values)\n",
        "print(df1_1_sorted.head(1)['學校名稱'].values,\"學士生數量為：\",df1_1_sorted.head(1)['總計'].values)"
      ],
      "metadata": {
        "id": "D9AfvfU-Szu7",
        "colab": {
          "base_uri": "https://localhost:8080/"
        },
        "outputId": "38e2c6f2-6e9b-4e85-bfab-9e89433d0aa8"
      },
      "execution_count": 7,
      "outputs": [
        {
          "output_type": "stream",
          "name": "stdout",
          "text": [
            "本資料集共有 764 筆紀錄\n",
            "         學校名稱   等級別     總計\n",
            "3      國立政治大學  B 學士   9763\n",
            "7      國立清華大學  B 學士   9274\n",
            "12     國立臺灣大學  B 學士  17323\n",
            "16   國立臺灣師範大學  B 學士   8503\n",
            "20     國立成功大學  B 學士  12159\n",
            "..        ...   ...    ...\n",
            "702  中信金融管理學院  B 學士    799\n",
            "733     馬偕醫學院  B 學士    749\n",
            "738    法鼓文理學院  B 學士     51\n",
            "739    法鼓文理學院  B 學士     19\n",
            "763    臺北市立大學  B 學士   5275\n",
            "\n",
            "[97 rows x 3 columns]\n",
            "有招生學士學制的學校數量為 97 \n",
            "\n",
            "112學年度在籍的學士生最多人數之學校為 ['淡江大學']\n",
            "['淡江大學'] 學士生數量為： [19466]\n"
          ]
        }
      ]
    },
    {
      "cell_type": "markdown",
      "source": [
        "# 2. 國立？所；私立？所\n",
        "\n",
        "step1: 建立空字串 (lsit=[])\n",
        "\n",
        "step2: 建立for迴圈，配合if else條件，取出國立與私立\n",
        "\n",
        "step3: 新增「公私立」column在DataFrame中 (df['公私立'])\n",
        "\n",
        "step4: 篩選掉重複的學校代碼資料 (drop_duplicates)\n",
        "\n",
        "step5: 計算公立與私立學校的筆數，並印出結果 (value_counts)"
      ],
      "metadata": {
        "id": "IzqRi2WyRZFh"
      }
    },
    {
      "cell_type": "code",
      "source": [
        "type_list = [] # 建立空字串\n",
        "\n",
        "for i in df['學校名稱']:\n",
        "    if ('國立' in i) or ('市立' in i):\n",
        "        type_list.append('公立')\n",
        "    else:\n",
        "        type_list.append('私立')\n",
        "\n",
        "df['公私立'] = type_list # 將 Dataframe 新增「公私立」column\n",
        "\n",
        "df2 = df.drop_duplicates('學校代碼')\n",
        "count = df2['學校代碼'].value_counts()\n",
        "df2_2_1 = df2[df2['公私立']=='公立']\n",
        "df2_2_2 = df2[df2['公私立']=='私立']\n",
        "\n",
        "print(df2)\n",
        "print(f\"本資料集共收集了 {len(df2)} 所學校，其中公立：{len(df2_2_1)} 所；私立：{len(df2_2_2)} 所。\")"
      ],
      "metadata": {
        "id": "eMbiigpnRbdl",
        "colab": {
          "base_uri": "https://localhost:8080/"
        },
        "outputId": "9bf71abc-207b-478c-8216-942e3b9b9454"
      },
      "execution_count": 8,
      "outputs": [
        {
          "output_type": "stream",
          "name": "stdout",
          "text": [
            "     學年度  學校代碼        學校名稱 日間∕進修別   等級別    總計   男生計   女生計  一年級男  一年級女  ...  \\\n",
            "0    112     1      國立政治大學    D 日  D 博士   921   517   404    86    69  ...   \n",
            "4    112     2      國立清華大學    D 日  D 博士  1636  1131   505   206    93  ...   \n",
            "9    112     3      國立臺灣大學    D 日  D 博士  3654  2454  1200   431   215  ...   \n",
            "13   112     4    國立臺灣師範大學    D 日  D 博士  1337   630   707   106   127  ...   \n",
            "17   112     5      國立成功大學    D 日  D 博士  1888  1228   660   219   136  ...   \n",
            "..   ...   ...         ...    ...   ...   ...   ...   ...   ...   ...  ...   \n",
            "753  112  1289  育英醫護管理專科學校    D 日  5 五專  1833   200  1633    39   343  ...   \n",
            "754  112  1291  聖母醫護管理專科學校    D 日  2 二專     2     2     0     0     0  ...   \n",
            "757  112  1292  新生醫護管理專科學校    N 修  2 二專    79    12    67     7    37  ...   \n",
            "759  112  1293  崇仁醫護管理專科學校    D 日  5 五專  3017   460  2557   112   515  ...   \n",
            "760  112  3002      臺北市立大學    D 日  D 博士   208    94   114    17    11  ...   \n",
            "\n",
            "     五年級女  六年級男  六年級女  七年級男  七年級女  延修生男  延修生女    縣市名稱   體系別  公私立  \n",
            "0      52    68    37    66    50     0     0  30 臺北市  1 一般   公立  \n",
            "4      60   110    50   115    56     0     0  18 新竹市  1 一般   公立  \n",
            "9     128   179   106   312   132     0     0  30 臺北市  1 一般   公立  \n",
            "13     83    59    85    87    89     0     0  30 臺北市  3 師範   公立  \n",
            "17     84   107    57   110    48     0     0  21 臺南市  1 一般   公立  \n",
            "..    ...   ...   ...   ...   ...   ...   ...     ...   ...  ...  \n",
            "753   276     0     0     0     0    13    77  50 高雄市  2 技職   私立  \n",
            "754     0     0     0     0     0     2     0  02 宜蘭縣  2 技職   私立  \n",
            "757     0     0     0     0     0     0     1  03 桃園市  2 技職   私立  \n",
            "759   529     0     0     0     0    19    45  10 嘉義縣  2 技職   私立  \n",
            "760    14     6     9    16    25     0     0  30 臺北市  1 一般   公立  \n",
            "\n",
            "[145 rows x 27 columns]\n",
            "本資料集共收集了 145 所學校，其中公立：47 所；私立：98 所。\n"
          ]
        }
      ]
    },
    {
      "cell_type": "markdown",
      "source": [
        "# 3. 各等級別學制共有？所\n",
        "\n",
        "step1: 篩選掉重複的學校名稱與等級別 (drop_duplicates, subset)\n",
        "\n",
        "step2: 計算出等級別的筆數 (value_counts)\n",
        "\n",
        "step3: 建立等級別的字串，並找出其類別 (unique)\n",
        "\n",
        "step4: 使用for迴圈，依序列出所有等級別學制的學校數量 (count)"
      ],
      "metadata": {
        "id": "Fg_f-NzNSKiU"
      }
    },
    {
      "cell_type": "code",
      "source": [
        "df3 = df.drop_duplicates(subset=['學校名稱','等級別'])\n",
        "count = df3['等級別'].value_counts()\n",
        "\n",
        "#print(df3)\n",
        "\n",
        "degree_list = list(df['等級別'].unique())\n",
        "\n",
        "print(f\"本資料集總共收集了 {len(set(df['學校代碼']))} 所學校，各等級學制當中：\")\n",
        "for degree in degree_list:\n",
        "    print(f\"一共有{count[degree]} 所學校， 有招收{degree[2:]}。\")"
      ],
      "metadata": {
        "id": "FuhQKQqRSLOc",
        "colab": {
          "base_uri": "https://localhost:8080/"
        },
        "outputId": "9d130c44-97a9-4dcf-b2e3-36a74fd44f9a"
      },
      "execution_count": 9,
      "outputs": [
        {
          "output_type": "stream",
          "name": "stdout",
          "text": [
            "本資料集總共收集了 145 所學校，各等級學制當中：\n",
            "一共有84 所學校， 有招收博士。\n",
            "一共有130 所學校， 有招收碩士。\n",
            "一共有67 所學校， 有招收學士。\n",
            "一共有1 所學校， 有招收4+X。\n",
            "一共有71 所學校， 有招收二技。\n",
            "一共有66 所學校， 有招收四技。\n",
            "一共有46 所學校， 有招收五專。\n",
            "一共有2 所學校， 有招收七年。\n",
            "一共有46 所學校， 有招收二專。\n",
            "一共有1 所學校， 有招收二年制。\n"
          ]
        }
      ]
    },
    {
      "cell_type": "markdown",
      "source": [
        "# 4. 各縣市分別有？所，位於新北市的大專院校總共有幾所"
      ],
      "metadata": {
        "id": "wKevo1U1TOn2"
      }
    },
    {
      "cell_type": "code",
      "source": [
        "city_list = []\n",
        "for i in df['縣市名稱']:\n",
        "  city_list.append(i[3:])\n",
        "df['縣市名'] = city_list\n",
        "\n",
        "df4 = df.drop_duplicates('學校代碼')#篩除重複的學校代碼\n",
        "count = df4['縣市名'].value_counts()\n",
        "city_list = list(df['縣市名'].unique())\n",
        "\n",
        "print(f\"本資料集總共收集了 {len(df4)} 所學校，其中：\")\n",
        "for city in city_list:\n",
        "    print(f\"{city} 有 {count[city]}所。\")\n",
        "\n",
        "newtaipei = df4[df4['縣市名']=='新北市']\n",
        "print('\\n', newtaipei['縣市名'].value_counts())"
      ],
      "metadata": {
        "id": "kTfp6k2ATPPI",
        "colab": {
          "base_uri": "https://localhost:8080/"
        },
        "outputId": "67631b84-6074-46da-8b77-f7d79c8556fb"
      },
      "execution_count": 10,
      "outputs": [
        {
          "output_type": "stream",
          "name": "stdout",
          "text": [
            "本資料集總共收集了 145 所學校，其中：\n",
            "臺北市 有 24所。\n",
            "新竹市 有 5所。\n",
            "臺南市 有 13所。\n",
            "臺中市 有 17所。\n",
            "桃園市 有 12所。\n",
            "高雄市 有 15所。\n",
            "基隆市 有 3所。\n",
            "嘉義縣 有 4所。\n",
            "彰化縣 有 4所。\n",
            "新北市 有 20所。\n",
            "嘉義市 有 2所。\n",
            "花蓮縣 有 4所。\n",
            "南投縣 有 2所。\n",
            "雲林縣 有 3所。\n",
            "屏東縣 有 5所。\n",
            "臺東縣 有 2所。\n",
            "宜蘭縣 有 3所。\n",
            "苗栗縣 有 3所。\n",
            "澎湖縣 有 1所。\n",
            "金門縣 有 1所。\n",
            "新竹縣 有 2所。\n",
            "\n",
            " 新北市    20\n",
            "Name: 縣市名, dtype: int64\n"
          ]
        }
      ]
    },
    {
      "cell_type": "markdown",
      "source": [
        "# 5. 北中南東區分別有？所\n",
        "\n",
        "都市及區域發展統計彙編 - 國發會 https://www.ndc.gov.tw/nc_77_4402"
      ],
      "metadata": {
        "id": "cwKsmmdNXKwL"
      }
    },
    {
      "cell_type": "markdown",
      "source": [
        "北部區域：包括臺北市、新北市、基隆市、新竹市、桃園市、新竹縣及宜蘭縣。\n",
        "\n",
        "中部區域：包括臺中市、苗栗縣、彰化縣、南投縣及雲林縣。\n",
        "\n",
        "南部區域：包括高雄市、臺南市、嘉義市、嘉義縣、屏東縣及澎湖縣。\n",
        "\n",
        "東部區域：包括花蓮縣及臺東縣。\n",
        "\n",
        "福建省：包括金門縣與連江縣。"
      ],
      "metadata": {
        "id": "nc8jGnGW_joN"
      }
    },
    {
      "cell_type": "code",
      "source": [
        "city_area = {'臺北市':'北部',\n",
        "             '新北市':'北部',\n",
        "             '基隆市':'北部',\n",
        "             '新竹市':'北部',\n",
        "             '桃園市':'北部',\n",
        "             '新竹縣':'北部',\n",
        "             '宜蘭縣':'北部',\n",
        "             '臺中市':'中部',\n",
        "             '苗栗縣':'中部',\n",
        "             '彰化縣':'中部',\n",
        "             '南投縣':'中部',\n",
        "             '雲林縣':'中部',\n",
        "             '高雄市':'南部',\n",
        "             '臺南市':'南部',\n",
        "             '嘉義市':'南部',\n",
        "             '嘉義縣':'南部',\n",
        "             '屏東縣':'南部',\n",
        "             '澎湖縣':'南部',\n",
        "             '花蓮縣':'東部',\n",
        "             '臺東縣':'東部',\n",
        "             '金門縣':'福建省',\n",
        "             '連江縣':'福建省',\n",
        "             }\n",
        "df['區域'] = df['縣市名'].map(city_area)\n",
        "\n",
        "df5 = df.drop_duplicates('學校代碼')\n",
        "count = df5['區域'].value_counts()\n",
        "\n",
        "print(f\"本資料集總共收集了 {len(df5)} 所學校，其中：\")\n",
        "print(f\"北部區域共有 {count['北部']} 所，\\n中部區域共有 {count['中部']} 所，\\n南部區域共有 {count['南部']} 所，\\n東部區域共有 {count['東部']} 所，\\n褔建省區域共有 {count['福建省']} 所。\")"
      ],
      "metadata": {
        "id": "RDgJ5YoAx92d",
        "colab": {
          "base_uri": "https://localhost:8080/"
        },
        "outputId": "fd8ff817-f597-4d4d-eded-bbe6264f8a7e"
      },
      "execution_count": 11,
      "outputs": [
        {
          "output_type": "stream",
          "name": "stdout",
          "text": [
            "本資料集總共收集了 145 所學校，其中：\n",
            "北部區域共有 69 所，\n",
            "中部區域共有 29 所，\n",
            "南部區域共有 40 所，\n",
            "東部區域共有 6 所，\n",
            "褔建省區域共有 1 所。\n"
          ]
        }
      ]
    },
    {
      "cell_type": "markdown",
      "source": [
        "# 6. 各體系別分別有？所"
      ],
      "metadata": {
        "id": "7WkoovplBeaz"
      }
    },
    {
      "cell_type": "code",
      "source": [
        "df6 = df.drop_duplicates('學校代碼')\n",
        "count = df6['體系別'].value_counts()\n",
        "\n",
        "print(f\"本資料共收集了 {len(df6)} 所學校，其中：\")\n",
        "print(f\"一般體系有 {count['1 一般']} 所，\\n技職體系有 {count['2 技職']} 所，\\n師範體系有 {count['3 師範']}所。\")"
      ],
      "metadata": {
        "id": "JKMhMFVMBiBF",
        "colab": {
          "base_uri": "https://localhost:8080/"
        },
        "outputId": "2c5c901a-4184-4feb-a69b-7161149ab209"
      },
      "execution_count": 12,
      "outputs": [
        {
          "output_type": "stream",
          "name": "stdout",
          "text": [
            "本資料共收集了 145 所學校，其中：\n",
            "一般體系有 62 所，\n",
            "技職體系有 78 所，\n",
            "師範體系有 5所。\n"
          ]
        }
      ]
    },
    {
      "cell_type": "markdown",
      "source": [
        "# 7. 國立/私立與男女比\n",
        "請問國立大學與私立大學在學男生女生比例為何? 延修生男生女生比例為何?"
      ],
      "metadata": {
        "id": "h3ujPC6KCLxI"
      }
    },
    {
      "cell_type": "code",
      "source": [
        "count = {}\n",
        "\n",
        "#儲存各校在學與延修生的男女生數\n",
        "def create_count_dict(df,count):\n",
        "  df7 = df.drop_duplicates('學校代碼')\n",
        "  for i in df7['學校名稱']:\n",
        "    count[i] = {}\n",
        "    count[i]['在學生'] = {}\n",
        "    count[i]['在學生']['男生數'] = 0\n",
        "    count[i]['在學生']['女生數'] = 0\n",
        "    count[i]['延修生'] = {}\n",
        "    count[i]['延修生']['男生數'] = 0\n",
        "    count[i]['延修生']['女生數'] = 0\n",
        "\n",
        "def create_every_school_data(df):\n",
        "  for j in range(len(df)):\n",
        "    count[df.iloc[j,2]]['在學生']['男生數'] += (int(df.iloc[j,8])+int(df.iloc[j,10])+int(df.iloc[j,12])+int(df.iloc[j,14])+int(df.iloc[j,16])+int(df.iloc[j,18])+int(df.iloc[j,20]))\n",
        "    count[df.iloc[j,2]]['在學生']['女生數'] += (int(df.iloc[j,9])+int(df.iloc[j,11])+int(df.iloc[j,13])+int(df.iloc[j,15])+int(df.iloc[j,17])+int(df.iloc[j,19])+int(df.iloc[j,21]))\n",
        "    count[df.iloc[j,2]]['延修生']['男生數'] += int(df.iloc[j,22])\n",
        "    count[df.iloc[j,2]]['延修生']['女生數'] += int(df.iloc[j,23])\n",
        "\n",
        "create_count_dict(df,count)\n",
        "create_every_school_data(df)"
      ],
      "metadata": {
        "id": "deMDYF5ACMU-"
      },
      "execution_count": 13,
      "outputs": []
    },
    {
      "cell_type": "markdown",
      "source": [
        "# 8. 國立大學在學生男女比"
      ],
      "metadata": {
        "id": "DAvYMOFLCtRn"
      }
    },
    {
      "cell_type": "code",
      "source": [
        "public_in_school_male = 0\n",
        "public_in_school_female = 0\n",
        "\n",
        "df7_1 = df.drop_duplicates('學校代碼', ignore_index=True)\n",
        "for i in range(len(df7_1)):\n",
        "  if df7_1.loc[i,'公私立'] == '公立':\n",
        "    public_in_school_male += count[df7_1.loc[i,'學校名稱']]['在學生']['男生數']\n",
        "    public_in_school_female += count[df7_1.loc[i,'學校名稱']]['在學生']['女生數']\n",
        "\n",
        "print(f'國立大學在學男生數共 {public_in_school_male} 人')\n",
        "print(f'國立大學在學女生數共 {public_in_school_female} 人')\n",
        "\n",
        "#男女比ratio=(男/女)*100\n",
        "ratio = public_in_school_male / public_in_school_female * 100\n",
        "print(f'國立大學在學生男女比：{ratio} ≑ {round(ratio,2)}')"
      ],
      "metadata": {
        "id": "dYAEBiC7Co8B",
        "colab": {
          "base_uri": "https://localhost:8080/"
        },
        "outputId": "01a3005f-79c8-4c54-d692-fd9cddb3fb29"
      },
      "execution_count": 14,
      "outputs": [
        {
          "output_type": "stream",
          "name": "stdout",
          "text": [
            "國立大學在學男生數共 241521 人\n",
            "國立大學在學女生數共 202772 人\n",
            "國立大學在學生男女比：119.10964038427396 ≑ 119.11\n"
          ]
        }
      ]
    },
    {
      "cell_type": "markdown",
      "source": [
        " # 9. 每校平均最多與最少人的體系"
      ],
      "metadata": {
        "id": "zWIyQ01LXGo_"
      }
    },
    {
      "cell_type": "code",
      "source": [
        "df9 = df.drop_duplicates('學校代碼')\n",
        "system_count = df9['體系別'].value_counts()\n",
        "\n",
        "system_list = list(df['體系別'].unique())\n",
        "count_student = 0\n",
        "result_dict = {}\n",
        "\n",
        "for system in system_list:\n",
        "  for i in range(len(df)):\n",
        "    if df.loc[i,'體系別'] == system:\n",
        "      count_student += int(df.loc[i,'總計'])\n",
        "  result_dict[system[2:]] = count_student/system_count[system]\n",
        "  count_student = 0\n",
        "\n",
        "max_value = max(result_dict.values())\n",
        "min_value = min(result_dict.values())\n",
        "max_key = next(key for key, value in result_dict.items() if value == max_value)\n",
        "min_key = next(key for key, value in result_dict.items() if value == min_value)\n",
        "\n",
        "print(f'每校平均最多人的是 {max_key} 體系，平均每校 {round(max_value,2)} 人')\n",
        "print(f'每校平均最少人的是 {min_key} 體系，平均每校 {round(min_value,2)} 人')"
      ],
      "metadata": {
        "id": "uSHT2gbiXIW8",
        "colab": {
          "base_uri": "https://localhost:8080/"
        },
        "outputId": "402ef2f2-d4cd-4802-e832-2e2e4afc90b1"
      },
      "execution_count": 15,
      "outputs": [
        {
          "output_type": "stream",
          "name": "stdout",
          "text": [
            "每校平均最多人的是 一般 體系，平均每校 9224.89 人\n",
            "每校平均最少人的是 技職 體系，平均每校 6143.56 人\n"
          ]
        }
      ]
    },
    {
      "cell_type": "code",
      "source": [
        "all_male = 0\n",
        "all_female = 0\n",
        "\n",
        "df9_1 = df.drop_duplicates('學校代碼', ignore_index=True)\n",
        "for i in range(len(df9_1)):\n",
        "   # if df1.loc[i,'公私立'] == '國立':\n",
        "        all_male += count[df9_1.loc[i,'學校名稱']]['在學生']['男生數']\n",
        "        all_female += count[df9_1.loc[i,'學校名稱']]['在學生']['女生數']\n",
        "\n",
        "ratio = all_male/all_female*100 # 男女比計算公式\n",
        "print(f'所有大學學生男女比：{ratio} ≑ {round(ratio,2)}') # 四捨五入至小數點後兩位\n",
        "\n",
        "#數據\n",
        "labels = ['男生', '女生']\n",
        "sizes = [all_male, all_female]\n",
        "colors = ['lightblue', 'pink']\n",
        "explode = (0, 0.05)\n",
        "\n",
        "#繪製圓餅圖\n",
        "plt.pie(sizes, explode=explode, labels=labels, colors=colors, autopct='%1.1f%%', startangle=140)\n",
        "plt.axis('equal')  # 使圓餅圖為等比例\n",
        "plt.title('所有學校學生的男女比例')\n",
        "plt.show()"
      ],
      "metadata": {
        "colab": {
          "base_uri": "https://localhost:8080/",
          "height": 445
        },
        "id": "DpD6wLWKGGiW",
        "outputId": "0714d232-1785-477c-c5ab-6f92bbf96496"
      },
      "execution_count": 21,
      "outputs": [
        {
          "output_type": "stream",
          "name": "stdout",
          "text": [
            "所有大學學生男女比：96.44547804394217 ≑ 96.45\n"
          ]
        },
        {
          "output_type": "display_data",
          "data": {
            "text/plain": [
              "<Figure size 640x480 with 1 Axes>"
            ],
            "image/png": "[encoded data removed]"
          },
          "metadata": {}
        }
      ]
    },
    {
      "cell_type": "markdown",
      "source": [
        "# 10. 將新增的欄位寫入並儲存成新的CSV檔案，並命名為112_students_tf.csv\n",
        "\n",
        "新增的欄位有\"公私立\"，\"縣市名\"，\"區域\""
      ],
      "metadata": {
        "id": "KIx0QtssywfA"
      }
    },
    {
      "cell_type": "code",
      "source": [
        "df.head(2)\n",
        "print(df.head(2))\n",
        "#df.to_csv('112_student_tf.csv', encoding='utf-8', sep=',')\n",
        "print(\"finish\")"
      ],
      "metadata": {
        "id": "LZUhVcpGzFOE",
        "colab": {
          "base_uri": "https://localhost:8080/"
        },
        "outputId": "8c410803-643f-43b8-a8ab-571f3d67e887"
      },
      "execution_count": 22,
      "outputs": [
        {
          "output_type": "stream",
          "name": "stdout",
          "text": [
            "   學年度  學校代碼    學校名稱 日間∕進修別   等級別    總計   男生計   女生計  一年級男  一年級女  ...  六年級女  \\\n",
            "0  112     1  國立政治大學    D 日  D 博士   921   517   404    86    69  ...    37   \n",
            "1  112     1  國立政治大學    D 日  M 碩士  4231  1835  2396   598   809  ...     0   \n",
            "\n",
            "   七年級男  七年級女  延修生男  延修生女    縣市名稱   體系別  公私立  縣市名  區域  \n",
            "0    66    50     0     0  30 臺北市  1 一般   公立  臺北市  北部  \n",
            "1     0     0     0     0  30 臺北市  1 一般   公立  臺北市  北部  \n",
            "\n",
            "[2 rows x 29 columns]\n",
            "finish\n"
          ]
        }
      ]
    },
    {
      "cell_type": "markdown",
      "source": [
        "11.就讀國立大學的博士生有多少名？"
      ],
      "metadata": {
        "id": "6uy4RZIpnr6M"
      }
    },
    {
      "cell_type": "code",
      "source": [
        "df11 = df[['學校名稱','等級別','總計','公私立']]\n",
        "print(\"本資料集共有\", len(df11), \"筆紀錄\")\n",
        "\n",
        "df11_1 = df11[df11['等級別'] == 'D 博士']\n",
        "#print(df11_1)\n",
        "print(\"有招生博士學制的學校數量為\", len(df11_1), \"\\n\")\n",
        "df11_2 = df11_1[df11_1['公私立']=='公立']\n",
        "total_sum = df11_2['總計'].sum()\n",
        "print(\"112學年度國立大學在籍的博士生總人數為\", total_sum)"
      ],
      "metadata": {
        "colab": {
          "base_uri": "https://localhost:8080/"
        },
        "id": "wt8GnBEjn3Dd",
        "outputId": "2ff5da21-fd9e-41cd-ebcb-f9366a235ea6"
      },
      "execution_count": 26,
      "outputs": [
        {
          "output_type": "stream",
          "name": "stdout",
          "text": [
            "本資料集共有 764 筆紀錄\n",
            "有招生博士學制的學校數量為 84 \n",
            "\n",
            "112學年度國立大學在籍的博士生總人數為 22297\n"
          ]
        }
      ]
    },
    {
      "cell_type": "markdown",
      "source": [
        "12.就讀['N 職']的碩士生共有幾人？其中男性人數占總人數幾％？"
      ],
      "metadata": {
        "id": "4s9LmOVrbOFe"
      }
    },
    {
      "cell_type": "code",
      "source": [
        "df12 = df[['日間∕進修別','等級別','總計','男生計']]\n",
        "print(\"本資料集共有\", len(df12), \"筆記錄\")\n",
        "\n",
        "count_all_student = 0\n",
        "count_male_student = 0\n",
        "\n",
        "for i in range(len(df)):\n",
        "  if df.loc[i,'日間∕進修別'] == 'N 職':\n",
        "    if df.loc[i,'等級別'] == 'M 碩士':\n",
        "      count_all_student += int(df.loc[i,'總計'])\n",
        "      count_male_student += int(df.loc[i,'男生計'])\n",
        "\n",
        "male_percent = (count_male_student/count_all_student)*100\n",
        "print(f'就讀 N 職 的碩士生共有 {count_all_student} 人，其中男性人數共 {count_male_student}人，占總人數的 {round(male_percent,2)} ％')"
      ],
      "metadata": {
        "colab": {
          "base_uri": "https://localhost:8080/"
        },
        "id": "i1CYE9phbjHD",
        "outputId": "ffad021b-f945-4d85-e4d9-bd5f1612671b"
      },
      "execution_count": 33,
      "outputs": [
        {
          "output_type": "stream",
          "name": "stdout",
          "text": [
            "本資料集共有 764 筆記錄\n",
            "就讀 N 職 的碩士生共有 53152 人，其中男性人數共 25199人，占總人數的 47.41 ％\n"
          ]
        }
      ]
    }
  ]
}