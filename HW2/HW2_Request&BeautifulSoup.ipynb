{
  "nbformat": 4,
  "nbformat_minor": 0,
  "metadata": {
    "colab": {
      "provenance": []
    },
    "kernelspec": {
      "name": "python3",
      "display_name": "Python 3"
    },
    "language_info": {
      "name": "python"
    }
  },
  "cells": [
    {
      "cell_type": "markdown",
      "source": [
        "# 0.掛接雲端硬碟"
      ],
      "metadata": {
        "id": "2j50r3K44TpV"
      }
    },
    {
      "cell_type": "code",
      "execution_count": null,
      "metadata": {
        "id": "JMtyNV6u30rD",
        "colab": {
          "base_uri": "https://localhost:8080/"
        },
        "outputId": "eb95e3f6-b797-4dab-d5b3-0cf0770e98bd"
      },
      "outputs": [
        {
          "output_type": "stream",
          "name": "stdout",
          "text": [
            "Mounted at /content/gdrive/\n"
          ]
        },
        {
          "output_type": "execute_result",
          "data": {
            "text/plain": [
              "['HW2-Selenium.ipynb', 'HW2-Request&BeautifulSoup.ipynb']"
            ]
          },
          "metadata": {},
          "execution_count": 1
        }
      ],
      "source": [
        "# Connetced yourself Cloud Storage\n",
        "from google.colab import drive\n",
        "drive.mount('/content/gdrive/', force_remount=True)\n",
        "\n",
        "import os\n",
        "os.chdir(\"/content/gdrive/MyDrive/LATIA112-2/HW2/\")\n",
        "os.listdir()"
      ]
    },
    {
      "cell_type": "code",
      "source": [
        "import sys\n",
        "import subprocess\n",
        "import requests\n",
        "import pandas as pd\n",
        "import datetime as dt\n",
        "import time\n",
        "import csv\n",
        "from bs4 import BeautifulSoup"
      ],
      "metadata": {
        "id": "E6ElJeD1NROc"
      },
      "execution_count": null,
      "outputs": []
    },
    {
      "cell_type": "markdown",
      "source": [
        "# 1.擷取小說狂人網站[收藏小說-熱門排行]前五名之書名、作者、最新章節、收藏數、觀看數，並儲存成CSV檔"
      ],
      "metadata": {
        "id": "0yJm8fRs-dWX"
      }
    },
    {
      "cell_type": "code",
      "source": [
        "#向網站發送請求\n",
        "r = requests.get(\"https://czbooks.net/\")\n",
        "r.encoding = \"utf8\"\n",
        "#使用BeautifulSoup解析HTML內容\n",
        "soup = BeautifulSoup(r.text, \"html\")\n",
        "# print(soup)\n",
        "\n",
        "tag_div0 = soup.find('div', class_='main')\n",
        "# print(tag_div0)\n",
        "tag_div1 = tag_div0.find('div', class_='container')\n",
        "# print(tag_div1)\n",
        "tag_ul0 = tag_div1.find_all('ul', class_='novel-list style-row style-index')\n",
        "# print(tag_ul0)\n",
        "third_ul = tag_ul0[2]\n",
        "# print(third_ul)\n",
        "#列印排行榜分類\n",
        "type_name = third_ul.find('li', class_='novel-list-title')\n",
        "type_name0 = type_name.text\n",
        "type_name1 = type_name0.strip('\"\"')\n",
        "print(type_name1)\n",
        "print(\"---------------------------------\")\n",
        "#第一～五名\n",
        "tag_li0 = third_ul.find_all('li', class_='novel-item-wrapper')\n",
        "# print(tag_li0)\n",
        "\n",
        "#建立儲存檔名\n",
        "file_name = \"HW2_req_bs4_小說狂人收藏排行榜前五名.csv\"\n",
        "with open(file_name,'w+',encoding = 'utf-8') as fp:\n",
        "  writer = csv.writer(fp)\n",
        "  writer.writerow(type_name)\n",
        "  for i in range(0,5,1):\n",
        "    book_number = i+1\n",
        "    print(f\"第{book_number}名\")\n",
        "\n",
        "    book = tag_li0[i].find('div', class_='novel-item')\n",
        "    book_info = book.find('div', class_='novel-item-info-wrapper')\n",
        "    book_name = book_info.find('div', class_='novel-item-title')\n",
        "    writer.writerow(book_name)\n",
        "    print(\"書名：\",book_name.a.string)\n",
        "\n",
        "    book_author = book_info.find('div', class_='novel-item-author')\n",
        "    writer.writerow(book_author)\n",
        "    print(\"作者：\",book_author.a.string)\n",
        "\n",
        "    book_newest_chapter = book_info.find('div', class_='novel-item-newest-chapter')\n",
        "    writer.writerow(book_newest_chapter)\n",
        "    print(\"最新章：\",book_newest_chapter.a.string)\n",
        "\n",
        "    book_status = book_info.find('div', class_='novel-item-status')\n",
        "    book_nav = book_status.find('ul', class_='nav')\n",
        "    book_nav_li = book_nav.find_all('li')\n",
        "    solve_num0 = book_nav_li[0].text\n",
        "    solve_num1 = solve_num0.strip('\"\"')\n",
        "    read_num0 = book_nav_li[1].text\n",
        "    read_num1 = read_num0.strip('\"\"')\n",
        "    writer.writerow(book_nav_li[0])\n",
        "    writer.writerow(book_nav_li[1])\n",
        "    print(f\"收藏數：{solve_num1} ，觀看數：{read_num1}\")\n",
        "\n",
        "    print(\"---------------------------------\")\n",
        "\n",
        "#以下為先另存list再存至CSV的版本\n",
        "#先建立空白list\n",
        "type_list = []\n",
        "type_list.append(type_name1)\n",
        "book_number_list = []\n",
        "book_name_list = []\n",
        "book_author_list = []\n",
        "book_newest_chapter_list = []\n",
        "solve_num1_list = []\n",
        "read_num1_list = []\n",
        "#迴圈搜尋並使用append加入list\n",
        "for i in range(0,5,1):\n",
        "  book_number = i+1\n",
        "  book_number_list.append(book_number)\n",
        "  # print(f\"第{book_number}名\")\n",
        "\n",
        "  book = tag_li0[i].find('div', class_='novel-item')\n",
        "  book_info = book.find('div', class_='novel-item-info-wrapper')\n",
        "  book_name = book_info.find('div', class_='novel-item-title')\n",
        "  book_name_list.append(book_name.a.string)\n",
        "  # print(\"書名：\",book_name.a.string)\n",
        "\n",
        "  book_author = book_info.find('div', class_='novel-item-author')\n",
        "  book_author_list.append(book_author.a.string)\n",
        "  # print(\"作者：\",book_author.a.string)\n",
        "\n",
        "  book_newest_chapter = book_info.find('div', class_='novel-item-newest-chapter')\n",
        "  book_newest_chapter_list.append(book_newest_chapter.a.string)\n",
        "  # print(\"最新章：\",book_newest_chapter.a.string)\n",
        "\n",
        "  book_status = book_info.find('div', class_='novel-item-status')\n",
        "  book_nav = book_status.find('ul', class_='nav')\n",
        "  book_nav_li = book_nav.find_all('li')\n",
        "  solve_num0 = book_nav_li[0].text\n",
        "  solve_num1 = solve_num0.strip('\"\"')\n",
        "  solve_num1_list.append(solve_num1)\n",
        "\n",
        "  read_num0 = book_nav_li[1].text\n",
        "  read_num1 = read_num0.strip('\"\"')\n",
        "  read_num1_list.append(read_num1)\n",
        "\n",
        "  # print(f\"收藏數：{solve_num1} ，觀看數：{read_num1}\")\n",
        "  # print(\"---------------------------------\")"
      ],
      "metadata": {
        "id": "213mbLqg_W8J",
        "colab": {
          "base_uri": "https://localhost:8080/"
        },
        "outputId": "fc97e75a-b895-4803-e78a-67de7dfd2403"
      },
      "execution_count": null,
      "outputs": [
        {
          "output_type": "stream",
          "name": "stdout",
          "text": [
            "收藏小說 - 熱門排行 (更多排行)\n",
            "---------------------------------\n",
            "第1名\n",
            "書名： 逐夏_木瓜黃【完結+番外】\n",
            "作者： 木瓜黃\n",
            "最新章： 第207頁\n",
            "收藏數： 1969 ，觀看數： 74474\n",
            "---------------------------------\n",
            "第2名\n",
            "書名： 有效真香\n",
            "作者： 酌青梔\n",
            "最新章： 一則消息\n",
            "收藏數： 1388 ，觀看數： 421347\n",
            "---------------------------------\n",
            "第3名\n",
            "書名： 請遵守遊戲規則[無限]\n",
            "作者： 青梅醬\n",
            "最新章： 第346章\n",
            "收藏數： 680 ，觀看數： 12260\n",
            "---------------------------------\n",
            "第4名\n",
            "書名： 寒門嫡女有空間\n",
            "作者： 畫筆敲敲\n",
            "最新章： 第一千一百五十八章，救贖九（全書完）\n",
            "收藏數： 1449 ，觀看數： 100341\n",
            "---------------------------------\n",
            "第5名\n",
            "書名： 醉花陰（NPH）\n",
            "作者： 酌青梔\n",
            "最新章： 五十四 番外 3p高h\n",
            "收藏數： 743 ，觀看數： 218509\n",
            "---------------------------------\n"
          ]
        }
      ]
    },
    {
      "cell_type": "markdown",
      "source": [
        "# 儲存為CSV檔（純文字版本）"
      ],
      "metadata": {
        "id": "cBummELy3BG4"
      }
    },
    {
      "cell_type": "code",
      "source": [
        "file_name2 = \"HW2_req_bs4_2_小說狂人收藏排行榜前五名.csv\"\n",
        "with open(file_name2,'w+',encoding = 'utf-8') as fp:\n",
        "  writer = csv.writer(fp)\n",
        "  writer.writerow(type_list)\n",
        "  writer.writerow(book_number_list)\n",
        "  writer.writerow(book_name_list)\n",
        "  writer.writerow(book_author_list)\n",
        "  writer.writerow(book_newest_chapter_list)\n",
        "  writer.writerow(solve_num1_list)\n",
        "  writer.writerow(read_num1_list)"
      ],
      "metadata": {
        "id": "wGAu1WGl1ZCP"
      },
      "execution_count": null,
      "outputs": []
    }
  ]
}