{
  "nbformat": 4,
  "nbformat_minor": 0,
  "metadata": {
    "colab": {
      "provenance": []
    },
    "kernelspec": {
      "name": "python3",
      "display_name": "Python 3"
    },
    "language_info": {
      "name": "python"
    }
  },
  "cells": [
    {
      "cell_type": "markdown",
      "source": [
        "# 0.掛接雲端硬碟"
      ],
      "metadata": {
        "id": "2j50r3K44TpV"
      }
    },
    {
      "cell_type": "code",
      "execution_count": 7,
      "metadata": {
        "id": "JMtyNV6u30rD",
        "colab": {
          "base_uri": "https://localhost:8080/"
        },
        "outputId": "ad027f31-32b3-4ff9-a826-2bcb229a70af"
      },
      "outputs": [
        {
          "output_type": "stream",
          "name": "stdout",
          "text": [
            "Mounted at /content/gdrive/\n"
          ]
        },
        {
          "output_type": "execute_result",
          "data": {
            "text/plain": [
              "['HW2_Selenium_小說狂人精選排行總排行前五.csv',\n",
              " 'HW2-Selenium.ipynb',\n",
              " 'HW2-Request&BeautifulSoup.ipynb',\n",
              " 'HW2_req_bs4_小說狂人收藏排行榜前五名.csv']"
            ]
          },
          "metadata": {},
          "execution_count": 7
        }
      ],
      "source": [
        "# Connetced yourself Cloud Storage\n",
        "from google.colab import drive\n",
        "drive.mount('/content/gdrive/', force_remount=True)\n",
        "\n",
        "import os\n",
        "os.chdir(\"/content/gdrive/MyDrive/LATIA112-2/HW2/\")\n",
        "os.listdir()"
      ]
    },
    {
      "cell_type": "code",
      "source": [
        "import sys\n",
        "import subprocess\n",
        "import requests\n",
        "import pandas as pd\n",
        "import datetime as dt\n",
        "import time\n",
        "import csv\n",
        "from bs4 import BeautifulSoup"
      ],
      "metadata": {
        "id": "E6ElJeD1NROc"
      },
      "execution_count": 8,
      "outputs": []
    },
    {
      "cell_type": "markdown",
      "source": [
        "# 1.擷取小說狂人網站[收藏小說-熱門排行]前五名之書名、作者、最新章節、收藏數、觀看數，並儲存成CSV檔"
      ],
      "metadata": {
        "id": "0yJm8fRs-dWX"
      }
    },
    {
      "cell_type": "code",
      "source": [
        "#向網站發送請求\n",
        "r = requests.get(\"https://czbooks.net/\")\n",
        "r.encoding = \"utf8\"\n",
        "#使用BeautifulSoup解析HTML內容\n",
        "soup = BeautifulSoup(r.text, \"html\")\n",
        "# print(soup)\n",
        "\n",
        "tag_div0 = soup.find('div', class_='main')\n",
        "# print(tag_div0)\n",
        "tag_div1 = tag_div0.find('div', class_='container')\n",
        "# print(tag_div1)\n",
        "tag_ul0 = tag_div1.find_all('ul', class_='novel-list style-row style-index')\n",
        "# print(tag_ul0)\n",
        "third_ul = tag_ul0[2]\n",
        "# print(third_ul)\n",
        "#列印排行榜分類\n",
        "type_name = third_ul.find('li', class_='novel-list-title')\n",
        "type_name0 = type_name.text\n",
        "type_name1 = type_name0.strip('\"\"')\n",
        "print(type_name1)\n",
        "print(\"---------------------------------\")\n",
        "#第一～五名\n",
        "tag_li0 = third_ul.find_all('li', class_='novel-item-wrapper')\n",
        "# print(tag_li0)\n",
        "#以下為先另存list再存至CSV的版本\n",
        "#先建立空白list\n",
        "type_list = []\n",
        "type_list.append(type_name1)\n",
        "book_number_list = [\"排名\"]\n",
        "book_name_list = [\"書名\"]\n",
        "book_author_list = [\"作者\"]\n",
        "book_newest_chapter_list = [\"最新章節\"]\n",
        "solve_num1_list = [\"收藏數\"]\n",
        "read_num1_list = [\"觀看數\"]\n",
        "#迴圈搜尋並使用append加入list\n",
        "for i in range(0,5,1):\n",
        "  book_number = i+1\n",
        "  book_number_list.append(book_number)\n",
        "  print(f\"第{book_number}名\")\n",
        "\n",
        "  book = tag_li0[i].find('div', class_='novel-item')\n",
        "  book_info = book.find('div', class_='novel-item-info-wrapper')\n",
        "  book_name = book_info.find('div', class_='novel-item-title')\n",
        "  book_name_list.append(book_name.a.string)\n",
        "  print(\"書名：\",book_name.a.string)\n",
        "\n",
        "  book_author = book_info.find('div', class_='novel-item-author')\n",
        "  book_author_list.append(book_author.a.string)\n",
        "  print(\"作者：\",book_author.a.string)\n",
        "\n",
        "  book_newest_chapter = book_info.find('div', class_='novel-item-newest-chapter')\n",
        "  book_newest_chapter_list.append(book_newest_chapter.a.string)\n",
        "  print(\"最新章：\",book_newest_chapter.a.string)\n",
        "\n",
        "  book_status = book_info.find('div', class_='novel-item-status')\n",
        "  book_nav = book_status.find('ul', class_='nav')\n",
        "  book_nav_li = book_nav.find_all('li')\n",
        "  solve_num0 = book_nav_li[0].text\n",
        "  solve_num1 = solve_num0.strip('\"\"')\n",
        "  solve_num1_list.append(solve_num1)\n",
        "\n",
        "  read_num0 = book_nav_li[1].text\n",
        "  read_num1 = read_num0.strip('\"\"')\n",
        "  read_num1_list.append(read_num1)\n",
        "\n",
        "  print(f\"收藏數：{solve_num1} ，觀看數：{read_num1}\")\n",
        "  print(\"---------------------------------\")"
      ],
      "metadata": {
        "id": "213mbLqg_W8J",
        "colab": {
          "base_uri": "https://localhost:8080/"
        },
        "outputId": "b72ea1b8-3fb3-4d53-96f4-b9ed35afe8ed"
      },
      "execution_count": 9,
      "outputs": [
        {
          "output_type": "stream",
          "name": "stdout",
          "text": [
            "收藏小說 - 熱門排行 (更多排行)\n",
            "---------------------------------\n",
            "第1名\n",
            "書名： 如虹不落\n",
            "作者： 周鏡\n",
            "最新章： 第179頁\n",
            "收藏數： 579 ，觀看數： 31444\n",
            "---------------------------------\n",
            "第2名\n",
            "書名： 逐夏_木瓜黃【完結+番外】\n",
            "作者： 木瓜黃\n",
            "最新章： 第207頁\n",
            "收藏數： 2347 ，觀看數： 90739\n",
            "---------------------------------\n",
            "第3名\n",
            "書名： 醉骨（古言1v1高H）\n",
            "作者： 酒晚笙\n",
            "最新章： 勾引\n",
            "收藏數： 211 ，觀看數： 33034\n",
            "---------------------------------\n",
            "第4名\n",
            "書名： 奸臣的話癆婢女_慕如初【完結】\n",
            "作者： 慕如初\n",
            "最新章： 第307頁\n",
            "收藏數： 590 ，觀看數： 28544\n",
            "---------------------------------\n",
            "第5名\n",
            "書名： 偷情系列\n",
            "作者： 永夜X\n",
            "最新章： 1-8. 包養？\n",
            "收藏數： 378 ，觀看數： 93461\n",
            "---------------------------------\n"
          ]
        }
      ]
    },
    {
      "cell_type": "markdown",
      "source": [
        "# 儲存為CSV檔"
      ],
      "metadata": {
        "id": "cBummELy3BG4"
      }
    },
    {
      "cell_type": "code",
      "source": [
        "file_name2 = \"HW2_req_bs4_小說狂人收藏排行榜前五名.csv\"\n",
        "with open(file_name2,'w+',encoding = 'utf-8') as fp:\n",
        "  writer = csv.writer(fp)\n",
        "  writer.writerow(book_number_list)\n",
        "  writer.writerow(book_name_list)\n",
        "  writer.writerow(book_author_list)\n",
        "  writer.writerow(book_newest_chapter_list)\n",
        "  writer.writerow(solve_num1_list)\n",
        "  writer.writerow(read_num1_list)"
      ],
      "metadata": {
        "id": "wGAu1WGl1ZCP"
      },
      "execution_count": 10,
      "outputs": []
    }
  ]
}